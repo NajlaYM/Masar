{
  "nbformat": 4,
  "nbformat_minor": 0,
  "metadata": {
    "colab": {
      "provenance": [],
      "authorship_tag": "ABX9TyNwIsL0/hcEI8Xz1TOMOsXh",
      "include_colab_link": true
    },
    "kernelspec": {
      "name": "python3",
      "display_name": "Python 3"
    },
    "language_info": {
      "name": "python"
    }
  },
  "cells": [
    {
      "cell_type": "markdown",
      "metadata": {
        "id": "view-in-github",
        "colab_type": "text"
      },
      "source": [
        "<a href=\"https://colab.research.google.com/github/NajlaYM/Masar/blob/main/HW1.ipynb\" target=\"_parent\"><img src=\"https://colab.research.google.com/assets/colab-badge.svg\" alt=\"Open In Colab\"/></a>"
      ]
    },
    {
      "cell_type": "code",
      "execution_count": 10,
      "metadata": {
        "colab": {
          "base_uri": "https://localhost:8080/"
        },
        "id": "OLHzlquXb7sx",
        "outputId": "66625ce0-6ced-4b09-9e44-800607d326b1"
      },
      "outputs": [
        {
          "output_type": "stream",
          "name": "stdout",
          "text": [
            "Hi, my name is Najla and I am 21years old ,a computer information syatem student in imam mohamed ibn saud islamic university \n",
            ", trying to be the best data saince ever!\n"
          ]
        }
      ],
      "source": [
        "# here will be my name as a varable\n",
        "name = 'Najla';\n",
        "#here will be my age\n",
        "age='21';\n",
        "# this is a print statment\n",
        "print('Hi, my name is ' + name +' and I am '+ age+ 'years old ,a computer information syatem student in imam mohamed ibn saud islamic university \\n, trying to be the best data saince ever!');"
      ]
    },
    {
      "cell_type": "code",
      "source": [],
      "metadata": {
        "id": "xQ8mNtbWdG5w"
      },
      "execution_count": null,
      "outputs": []
    }
  ]
}