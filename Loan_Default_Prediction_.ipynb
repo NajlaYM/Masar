{
  "nbformat": 4,
  "nbformat_minor": 0,
  "metadata": {
    "colab": {
      "provenance": [],
      "include_colab_link": true
    },
    "kernelspec": {
      "name": "python3",
      "display_name": "Python 3"
    },
    "language_info": {
      "name": "python"
    }
  },
  "cells": [
    {
      "cell_type": "markdown",
      "metadata": {
        "id": "view-in-github",
        "colab_type": "text"
      },
      "source": [
        "<a href=\"https://colab.research.google.com/github/njlym/Data-Science-and-Machine-learning-Bootcamp/blob/main/Loan_Default_Prediction_.ipynb\" target=\"_parent\"><img src=\"https://colab.research.google.com/assets/colab-badge.svg\" alt=\"Open In Colab\"/></a>"
      ]
    },
    {
      "cell_type": "markdown",
      "source": [
        "# Part I"
      ],
      "metadata": {
        "id": "Y76UnWRt7p26"
      }
    },
    {
      "cell_type": "markdown",
      "source": [
        "\n",
        "**Loan Default Prediction**\n",
        "\n",
        "\n",
        "\n"
      ],
      "metadata": {
        "id": "4HIEvS6_WnjI"
      }
    },
    {
      "cell_type": "markdown",
      "source": [
        "```\n",
        "Dataset called Loan Default Prediction.\n",
        "\n",
        "The source: ( https://www.kaggle.com/datasets/kmldas/loan-default-prediction/data).\n",
        "\n",
        "\n",
        "DataSet Description\n",
        "\n",
        "* Employed: 1 for employed and 0 for unemployed;\n",
        "\n",
        "* Bank Balance: The amount of money that client had available in their account at the moment the data was obtained;\n",
        "\n",
        "* Annual Salary: The annual salary of each client;\n",
        "\n",
        "* Defaulted?: This is our target variable and it's filled of 0 for each client who didn't default and 1 for each client who defaulted their loans.\n",
        "\n",
        "\n",
        "```"
      ],
      "metadata": {
        "id": "a4OLUtgqikyE"
      }
    },
    {
      "cell_type": "markdown",
      "source": [
        "## 1- Data Cleaning"
      ],
      "metadata": {
        "id": "Qoa1achYkXFz"
      }
    },
    {
      "cell_type": "code",
      "source": [
        "#Import libraries\n",
        "import pandas as pd\n",
        "import seaborn as sns\n",
        "import matplotlib.pyplot as plt\n",
        "from sklearn import metrics , svm , datasets\n",
        "from sklearn.preprocessing import StandardScaler, MinMaxScaler\n",
        "from sklearn.model_selection import train_test_split\n",
        "from sklearn.tree import DecisionTreeClassifier\n",
        "from sklearn.ensemble import RandomForestClassifier\n",
        "from sklearn.metrics import accuracy_score\n",
        "from sklearn.linear_model import LogisticRegression\n",
        "from sklearn.svm import SVC\n",
        "from sklearn.neighbors import KNeighborsClassifier"
      ],
      "metadata": {
        "id": "v0udvHpWKkLG"
      },
      "execution_count": null,
      "outputs": []
    },
    {
      "cell_type": "code",
      "execution_count": null,
      "metadata": {
        "colab": {
          "base_uri": "https://localhost:8080/",
          "height": 423
        },
        "id": "7dVoJTDkWZCN",
        "outputId": "1dc07589-3a8d-4d12-ac0d-9d9e9255c9e8"
      },
      "outputs": [
        {
          "output_type": "execute_result",
          "data": {
            "text/plain": [
              "      Index  Employed  Bank Balance  Annual Salary  Defaulted?\n",
              "0         1         1       8754.36      532339.56           0\n",
              "1         2         0       9806.16      145273.56           0\n",
              "2         3         1      12882.60      381205.68           0\n",
              "3         4         1       6351.00      428453.88           0\n",
              "4         5         1       9427.92      461562.00           0\n",
              "...     ...       ...           ...            ...         ...\n",
              "9995   9996         1       8538.72      635908.56           0\n",
              "9996   9997         1       9095.52      235928.64           0\n",
              "9997   9998         1      10144.92      703633.92           0\n",
              "9998   9999         1      18828.12      440029.32           0\n",
              "9999  10000         0       2411.04      202355.40           0\n",
              "\n",
              "[10000 rows x 5 columns]"
            ],
            "text/html": [
              "\n",
              "  <div id=\"df-5b8736ac-98c7-4a00-a2ee-080c651fb83a\" class=\"colab-df-container\">\n",
              "    <div>\n",
              "<style scoped>\n",
              "    .dataframe tbody tr th:only-of-type {\n",
              "        vertical-align: middle;\n",
              "    }\n",
              "\n",
              "    .dataframe tbody tr th {\n",
              "        vertical-align: top;\n",
              "    }\n",
              "\n",
              "    .dataframe thead th {\n",
              "        text-align: right;\n",
              "    }\n",
              "</style>\n",
              "<table border=\"1\" class=\"dataframe\">\n",
              "  <thead>\n",
              "    <tr style=\"text-align: right;\">\n",
              "      <th></th>\n",
              "      <th>Index</th>\n",
              "      <th>Employed</th>\n",
              "      <th>Bank Balance</th>\n",
              "      <th>Annual Salary</th>\n",
              "      <th>Defaulted?</th>\n",
              "    </tr>\n",
              "  </thead>\n",
              "  <tbody>\n",
              "    <tr>\n",
              "      <th>0</th>\n",
              "      <td>1</td>\n",
              "      <td>1</td>\n",
              "      <td>8754.36</td>\n",
              "      <td>532339.56</td>\n",
              "      <td>0</td>\n",
              "    </tr>\n",
              "    <tr>\n",
              "      <th>1</th>\n",
              "      <td>2</td>\n",
              "      <td>0</td>\n",
              "      <td>9806.16</td>\n",
              "      <td>145273.56</td>\n",
              "      <td>0</td>\n",
              "    </tr>\n",
              "    <tr>\n",
              "      <th>2</th>\n",
              "      <td>3</td>\n",
              "      <td>1</td>\n",
              "      <td>12882.60</td>\n",
              "      <td>381205.68</td>\n",
              "      <td>0</td>\n",
              "    </tr>\n",
              "    <tr>\n",
              "      <th>3</th>\n",
              "      <td>4</td>\n",
              "      <td>1</td>\n",
              "      <td>6351.00</td>\n",
              "      <td>428453.88</td>\n",
              "      <td>0</td>\n",
              "    </tr>\n",
              "    <tr>\n",
              "      <th>4</th>\n",
              "      <td>5</td>\n",
              "      <td>1</td>\n",
              "      <td>9427.92</td>\n",
              "      <td>461562.00</td>\n",
              "      <td>0</td>\n",
              "    </tr>\n",
              "    <tr>\n",
              "      <th>...</th>\n",
              "      <td>...</td>\n",
              "      <td>...</td>\n",
              "      <td>...</td>\n",
              "      <td>...</td>\n",
              "      <td>...</td>\n",
              "    </tr>\n",
              "    <tr>\n",
              "      <th>9995</th>\n",
              "      <td>9996</td>\n",
              "      <td>1</td>\n",
              "      <td>8538.72</td>\n",
              "      <td>635908.56</td>\n",
              "      <td>0</td>\n",
              "    </tr>\n",
              "    <tr>\n",
              "      <th>9996</th>\n",
              "      <td>9997</td>\n",
              "      <td>1</td>\n",
              "      <td>9095.52</td>\n",
              "      <td>235928.64</td>\n",
              "      <td>0</td>\n",
              "    </tr>\n",
              "    <tr>\n",
              "      <th>9997</th>\n",
              "      <td>9998</td>\n",
              "      <td>1</td>\n",
              "      <td>10144.92</td>\n",
              "      <td>703633.92</td>\n",
              "      <td>0</td>\n",
              "    </tr>\n",
              "    <tr>\n",
              "      <th>9998</th>\n",
              "      <td>9999</td>\n",
              "      <td>1</td>\n",
              "      <td>18828.12</td>\n",
              "      <td>440029.32</td>\n",
              "      <td>0</td>\n",
              "    </tr>\n",
              "    <tr>\n",
              "      <th>9999</th>\n",
              "      <td>10000</td>\n",
              "      <td>0</td>\n",
              "      <td>2411.04</td>\n",
              "      <td>202355.40</td>\n",
              "      <td>0</td>\n",
              "    </tr>\n",
              "  </tbody>\n",
              "</table>\n",
              "<p>10000 rows × 5 columns</p>\n",
              "</div>\n",
              "    <div class=\"colab-df-buttons\">\n",
              "\n",
              "  <div class=\"colab-df-container\">\n",
              "    <button class=\"colab-df-convert\" onclick=\"convertToInteractive('df-5b8736ac-98c7-4a00-a2ee-080c651fb83a')\"\n",
              "            title=\"Convert this dataframe to an interactive table.\"\n",
              "            style=\"display:none;\">\n",
              "\n",
              "  <svg xmlns=\"http://www.w3.org/2000/svg\" height=\"24px\" viewBox=\"0 -960 960 960\">\n",
              "    <path d=\"M120-120v-720h720v720H120Zm60-500h600v-160H180v160Zm220 220h160v-160H400v160Zm0 220h160v-160H400v160ZM180-400h160v-160H180v160Zm440 0h160v-160H620v160ZM180-180h160v-160H180v160Zm440 0h160v-160H620v160Z\"/>\n",
              "  </svg>\n",
              "    </button>\n",
              "\n",
              "  <style>\n",
              "    .colab-df-container {\n",
              "      display:flex;\n",
              "      gap: 12px;\n",
              "    }\n",
              "\n",
              "    .colab-df-convert {\n",
              "      background-color: #E8F0FE;\n",
              "      border: none;\n",
              "      border-radius: 50%;\n",
              "      cursor: pointer;\n",
              "      display: none;\n",
              "      fill: #1967D2;\n",
              "      height: 32px;\n",
              "      padding: 0 0 0 0;\n",
              "      width: 32px;\n",
              "    }\n",
              "\n",
              "    .colab-df-convert:hover {\n",
              "      background-color: #E2EBFA;\n",
              "      box-shadow: 0px 1px 2px rgba(60, 64, 67, 0.3), 0px 1px 3px 1px rgba(60, 64, 67, 0.15);\n",
              "      fill: #174EA6;\n",
              "    }\n",
              "\n",
              "    .colab-df-buttons div {\n",
              "      margin-bottom: 4px;\n",
              "    }\n",
              "\n",
              "    [theme=dark] .colab-df-convert {\n",
              "      background-color: #3B4455;\n",
              "      fill: #D2E3FC;\n",
              "    }\n",
              "\n",
              "    [theme=dark] .colab-df-convert:hover {\n",
              "      background-color: #434B5C;\n",
              "      box-shadow: 0px 1px 3px 1px rgba(0, 0, 0, 0.15);\n",
              "      filter: drop-shadow(0px 1px 2px rgba(0, 0, 0, 0.3));\n",
              "      fill: #FFFFFF;\n",
              "    }\n",
              "  </style>\n",
              "\n",
              "    <script>\n",
              "      const buttonEl =\n",
              "        document.querySelector('#df-5b8736ac-98c7-4a00-a2ee-080c651fb83a button.colab-df-convert');\n",
              "      buttonEl.style.display =\n",
              "        google.colab.kernel.accessAllowed ? 'block' : 'none';\n",
              "\n",
              "      async function convertToInteractive(key) {\n",
              "        const element = document.querySelector('#df-5b8736ac-98c7-4a00-a2ee-080c651fb83a');\n",
              "        const dataTable =\n",
              "          await google.colab.kernel.invokeFunction('convertToInteractive',\n",
              "                                                    [key], {});\n",
              "        if (!dataTable) return;\n",
              "\n",
              "        const docLinkHtml = 'Like what you see? Visit the ' +\n",
              "          '<a target=\"_blank\" href=https://colab.research.google.com/notebooks/data_table.ipynb>data table notebook</a>'\n",
              "          + ' to learn more about interactive tables.';\n",
              "        element.innerHTML = '';\n",
              "        dataTable['output_type'] = 'display_data';\n",
              "        await google.colab.output.renderOutput(dataTable, element);\n",
              "        const docLink = document.createElement('div');\n",
              "        docLink.innerHTML = docLinkHtml;\n",
              "        element.appendChild(docLink);\n",
              "      }\n",
              "    </script>\n",
              "  </div>\n",
              "\n",
              "\n",
              "<div id=\"df-00ff505c-4275-413f-bbe8-d86f13ae4ebf\">\n",
              "  <button class=\"colab-df-quickchart\" onclick=\"quickchart('df-00ff505c-4275-413f-bbe8-d86f13ae4ebf')\"\n",
              "            title=\"Suggest charts\"\n",
              "            style=\"display:none;\">\n",
              "\n",
              "<svg xmlns=\"http://www.w3.org/2000/svg\" height=\"24px\"viewBox=\"0 0 24 24\"\n",
              "     width=\"24px\">\n",
              "    <g>\n",
              "        <path d=\"M19 3H5c-1.1 0-2 .9-2 2v14c0 1.1.9 2 2 2h14c1.1 0 2-.9 2-2V5c0-1.1-.9-2-2-2zM9 17H7v-7h2v7zm4 0h-2V7h2v10zm4 0h-2v-4h2v4z\"/>\n",
              "    </g>\n",
              "</svg>\n",
              "  </button>\n",
              "\n",
              "<style>\n",
              "  .colab-df-quickchart {\n",
              "      --bg-color: #E8F0FE;\n",
              "      --fill-color: #1967D2;\n",
              "      --hover-bg-color: #E2EBFA;\n",
              "      --hover-fill-color: #174EA6;\n",
              "      --disabled-fill-color: #AAA;\n",
              "      --disabled-bg-color: #DDD;\n",
              "  }\n",
              "\n",
              "  [theme=dark] .colab-df-quickchart {\n",
              "      --bg-color: #3B4455;\n",
              "      --fill-color: #D2E3FC;\n",
              "      --hover-bg-color: #434B5C;\n",
              "      --hover-fill-color: #FFFFFF;\n",
              "      --disabled-bg-color: #3B4455;\n",
              "      --disabled-fill-color: #666;\n",
              "  }\n",
              "\n",
              "  .colab-df-quickchart {\n",
              "    background-color: var(--bg-color);\n",
              "    border: none;\n",
              "    border-radius: 50%;\n",
              "    cursor: pointer;\n",
              "    display: none;\n",
              "    fill: var(--fill-color);\n",
              "    height: 32px;\n",
              "    padding: 0;\n",
              "    width: 32px;\n",
              "  }\n",
              "\n",
              "  .colab-df-quickchart:hover {\n",
              "    background-color: var(--hover-bg-color);\n",
              "    box-shadow: 0 1px 2px rgba(60, 64, 67, 0.3), 0 1px 3px 1px rgba(60, 64, 67, 0.15);\n",
              "    fill: var(--button-hover-fill-color);\n",
              "  }\n",
              "\n",
              "  .colab-df-quickchart-complete:disabled,\n",
              "  .colab-df-quickchart-complete:disabled:hover {\n",
              "    background-color: var(--disabled-bg-color);\n",
              "    fill: var(--disabled-fill-color);\n",
              "    box-shadow: none;\n",
              "  }\n",
              "\n",
              "  .colab-df-spinner {\n",
              "    border: 2px solid var(--fill-color);\n",
              "    border-color: transparent;\n",
              "    border-bottom-color: var(--fill-color);\n",
              "    animation:\n",
              "      spin 1s steps(1) infinite;\n",
              "  }\n",
              "\n",
              "  @keyframes spin {\n",
              "    0% {\n",
              "      border-color: transparent;\n",
              "      border-bottom-color: var(--fill-color);\n",
              "      border-left-color: var(--fill-color);\n",
              "    }\n",
              "    20% {\n",
              "      border-color: transparent;\n",
              "      border-left-color: var(--fill-color);\n",
              "      border-top-color: var(--fill-color);\n",
              "    }\n",
              "    30% {\n",
              "      border-color: transparent;\n",
              "      border-left-color: var(--fill-color);\n",
              "      border-top-color: var(--fill-color);\n",
              "      border-right-color: var(--fill-color);\n",
              "    }\n",
              "    40% {\n",
              "      border-color: transparent;\n",
              "      border-right-color: var(--fill-color);\n",
              "      border-top-color: var(--fill-color);\n",
              "    }\n",
              "    60% {\n",
              "      border-color: transparent;\n",
              "      border-right-color: var(--fill-color);\n",
              "    }\n",
              "    80% {\n",
              "      border-color: transparent;\n",
              "      border-right-color: var(--fill-color);\n",
              "      border-bottom-color: var(--fill-color);\n",
              "    }\n",
              "    90% {\n",
              "      border-color: transparent;\n",
              "      border-bottom-color: var(--fill-color);\n",
              "    }\n",
              "  }\n",
              "</style>\n",
              "\n",
              "  <script>\n",
              "    async function quickchart(key) {\n",
              "      const quickchartButtonEl =\n",
              "        document.querySelector('#' + key + ' button');\n",
              "      quickchartButtonEl.disabled = true;  // To prevent multiple clicks.\n",
              "      quickchartButtonEl.classList.add('colab-df-spinner');\n",
              "      try {\n",
              "        const charts = await google.colab.kernel.invokeFunction(\n",
              "            'suggestCharts', [key], {});\n",
              "      } catch (error) {\n",
              "        console.error('Error during call to suggestCharts:', error);\n",
              "      }\n",
              "      quickchartButtonEl.classList.remove('colab-df-spinner');\n",
              "      quickchartButtonEl.classList.add('colab-df-quickchart-complete');\n",
              "    }\n",
              "    (() => {\n",
              "      let quickchartButtonEl =\n",
              "        document.querySelector('#df-00ff505c-4275-413f-bbe8-d86f13ae4ebf button');\n",
              "      quickchartButtonEl.style.display =\n",
              "        google.colab.kernel.accessAllowed ? 'block' : 'none';\n",
              "    })();\n",
              "  </script>\n",
              "</div>\n",
              "\n",
              "  <div id=\"id_f5221a01-4c29-4ac1-93a5-f7eb3a6895eb\">\n",
              "    <style>\n",
              "      .colab-df-generate {\n",
              "        background-color: #E8F0FE;\n",
              "        border: none;\n",
              "        border-radius: 50%;\n",
              "        cursor: pointer;\n",
              "        display: none;\n",
              "        fill: #1967D2;\n",
              "        height: 32px;\n",
              "        padding: 0 0 0 0;\n",
              "        width: 32px;\n",
              "      }\n",
              "\n",
              "      .colab-df-generate:hover {\n",
              "        background-color: #E2EBFA;\n",
              "        box-shadow: 0px 1px 2px rgba(60, 64, 67, 0.3), 0px 1px 3px 1px rgba(60, 64, 67, 0.15);\n",
              "        fill: #174EA6;\n",
              "      }\n",
              "\n",
              "      [theme=dark] .colab-df-generate {\n",
              "        background-color: #3B4455;\n",
              "        fill: #D2E3FC;\n",
              "      }\n",
              "\n",
              "      [theme=dark] .colab-df-generate:hover {\n",
              "        background-color: #434B5C;\n",
              "        box-shadow: 0px 1px 3px 1px rgba(0, 0, 0, 0.15);\n",
              "        filter: drop-shadow(0px 1px 2px rgba(0, 0, 0, 0.3));\n",
              "        fill: #FFFFFF;\n",
              "      }\n",
              "    </style>\n",
              "    <button class=\"colab-df-generate\" onclick=\"generateWithVariable('data')\"\n",
              "            title=\"Generate code using this dataframe.\"\n",
              "            style=\"display:none;\">\n",
              "\n",
              "  <svg xmlns=\"http://www.w3.org/2000/svg\" height=\"24px\"viewBox=\"0 0 24 24\"\n",
              "       width=\"24px\">\n",
              "    <path d=\"M7,19H8.4L18.45,9,17,7.55,7,17.6ZM5,21V16.75L18.45,3.32a2,2,0,0,1,2.83,0l1.4,1.43a1.91,1.91,0,0,1,.58,1.4,1.91,1.91,0,0,1-.58,1.4L9.25,21ZM18.45,9,17,7.55Zm-12,3A5.31,5.31,0,0,0,4.9,8.1,5.31,5.31,0,0,0,1,6.5,5.31,5.31,0,0,0,4.9,4.9,5.31,5.31,0,0,0,6.5,1,5.31,5.31,0,0,0,8.1,4.9,5.31,5.31,0,0,0,12,6.5,5.46,5.46,0,0,0,6.5,12Z\"/>\n",
              "  </svg>\n",
              "    </button>\n",
              "    <script>\n",
              "      (() => {\n",
              "      const buttonEl =\n",
              "        document.querySelector('#id_f5221a01-4c29-4ac1-93a5-f7eb3a6895eb button.colab-df-generate');\n",
              "      buttonEl.style.display =\n",
              "        google.colab.kernel.accessAllowed ? 'block' : 'none';\n",
              "\n",
              "      buttonEl.onclick = () => {\n",
              "        google.colab.notebook.generateWithVariable('data');\n",
              "      }\n",
              "      })();\n",
              "    </script>\n",
              "  </div>\n",
              "\n",
              "    </div>\n",
              "  </div>\n"
            ],
            "application/vnd.google.colaboratory.intrinsic+json": {
              "type": "dataframe",
              "variable_name": "data",
              "summary": "{\n  \"name\": \"data\",\n  \"rows\": 10000,\n  \"fields\": [\n    {\n      \"column\": \"Index\",\n      \"properties\": {\n        \"dtype\": \"number\",\n        \"std\": 2886,\n        \"min\": 1,\n        \"max\": 10000,\n        \"num_unique_values\": 10000,\n        \"samples\": [\n          6253,\n          4685,\n          1732\n        ],\n        \"semantic_type\": \"\",\n        \"description\": \"\"\n      }\n    },\n    {\n      \"column\": \"Employed\",\n      \"properties\": {\n        \"dtype\": \"number\",\n        \"std\": 0,\n        \"min\": 0,\n        \"max\": 1,\n        \"num_unique_values\": 2,\n        \"samples\": [\n          0,\n          1\n        ],\n        \"semantic_type\": \"\",\n        \"description\": \"\"\n      }\n    },\n    {\n      \"column\": \"Bank Balance\",\n      \"properties\": {\n        \"dtype\": \"number\",\n        \"std\": 5804.579485551096,\n        \"min\": 0.0,\n        \"max\": 31851.84,\n        \"num_unique_values\": 9227,\n        \"samples\": [\n          13885.68,\n          16187.52\n        ],\n        \"semantic_type\": \"\",\n        \"description\": \"\"\n      }\n    },\n    {\n      \"column\": \"Annual Salary\",\n      \"properties\": {\n        \"dtype\": \"number\",\n        \"std\": 160039.67498817277,\n        \"min\": 9263.64,\n        \"max\": 882650.76,\n        \"num_unique_values\": 9989,\n        \"samples\": [\n          289519.32,\n          169704.96\n        ],\n        \"semantic_type\": \"\",\n        \"description\": \"\"\n      }\n    },\n    {\n      \"column\": \"Defaulted?\",\n      \"properties\": {\n        \"dtype\": \"number\",\n        \"std\": 0,\n        \"min\": 0,\n        \"max\": 1,\n        \"num_unique_values\": 2,\n        \"samples\": [\n          1,\n          0\n        ],\n        \"semantic_type\": \"\",\n        \"description\": \"\"\n      }\n    }\n  ]\n}"
            }
          },
          "metadata": {},
          "execution_count": 11
        }
      ],
      "source": [
        "url ='https://filebin.net/9ldgx3m9vv593xqe/Default_Fin.csv'\n",
        "\n",
        "#Read data from CSV file\n",
        "data = pd.read_csv(url)\n",
        "data\n"
      ]
    },
    {
      "cell_type": "code",
      "source": [
        "#Explore the data\n",
        "data.head(10)"
      ],
      "metadata": {
        "id": "ANXyP9BSnxkh",
        "colab": {
          "base_uri": "https://localhost:8080/",
          "height": 363
        },
        "outputId": "2eaa1584-76a7-4dc8-d90a-d0a5c7877380"
      },
      "execution_count": null,
      "outputs": [
        {
          "output_type": "execute_result",
          "data": {
            "text/plain": [
              "   Index  Employed  Bank Balance  Annual Salary  Defaulted?\n",
              "0      1         1       8754.36      532339.56           0\n",
              "1      2         0       9806.16      145273.56           0\n",
              "2      3         1      12882.60      381205.68           0\n",
              "3      4         1       6351.00      428453.88           0\n",
              "4      5         1       9427.92      461562.00           0\n",
              "5      6         0      11035.08       89898.72           0\n",
              "6      7         1       9906.12      298862.76           0\n",
              "7      8         0       9704.04      211205.40           0\n",
              "8      9         1      13932.72      449622.36           0\n",
              "9     10         1          0.00      351303.24           0"
            ],
            "text/html": [
              "\n",
              "  <div id=\"df-5aaee9c2-c359-410a-86aa-b5f3e9498e0e\" class=\"colab-df-container\">\n",
              "    <div>\n",
              "<style scoped>\n",
              "    .dataframe tbody tr th:only-of-type {\n",
              "        vertical-align: middle;\n",
              "    }\n",
              "\n",
              "    .dataframe tbody tr th {\n",
              "        vertical-align: top;\n",
              "    }\n",
              "\n",
              "    .dataframe thead th {\n",
              "        text-align: right;\n",
              "    }\n",
              "</style>\n",
              "<table border=\"1\" class=\"dataframe\">\n",
              "  <thead>\n",
              "    <tr style=\"text-align: right;\">\n",
              "      <th></th>\n",
              "      <th>Index</th>\n",
              "      <th>Employed</th>\n",
              "      <th>Bank Balance</th>\n",
              "      <th>Annual Salary</th>\n",
              "      <th>Defaulted?</th>\n",
              "    </tr>\n",
              "  </thead>\n",
              "  <tbody>\n",
              "    <tr>\n",
              "      <th>0</th>\n",
              "      <td>1</td>\n",
              "      <td>1</td>\n",
              "      <td>8754.36</td>\n",
              "      <td>532339.56</td>\n",
              "      <td>0</td>\n",
              "    </tr>\n",
              "    <tr>\n",
              "      <th>1</th>\n",
              "      <td>2</td>\n",
              "      <td>0</td>\n",
              "      <td>9806.16</td>\n",
              "      <td>145273.56</td>\n",
              "      <td>0</td>\n",
              "    </tr>\n",
              "    <tr>\n",
              "      <th>2</th>\n",
              "      <td>3</td>\n",
              "      <td>1</td>\n",
              "      <td>12882.60</td>\n",
              "      <td>381205.68</td>\n",
              "      <td>0</td>\n",
              "    </tr>\n",
              "    <tr>\n",
              "      <th>3</th>\n",
              "      <td>4</td>\n",
              "      <td>1</td>\n",
              "      <td>6351.00</td>\n",
              "      <td>428453.88</td>\n",
              "      <td>0</td>\n",
              "    </tr>\n",
              "    <tr>\n",
              "      <th>4</th>\n",
              "      <td>5</td>\n",
              "      <td>1</td>\n",
              "      <td>9427.92</td>\n",
              "      <td>461562.00</td>\n",
              "      <td>0</td>\n",
              "    </tr>\n",
              "    <tr>\n",
              "      <th>5</th>\n",
              "      <td>6</td>\n",
              "      <td>0</td>\n",
              "      <td>11035.08</td>\n",
              "      <td>89898.72</td>\n",
              "      <td>0</td>\n",
              "    </tr>\n",
              "    <tr>\n",
              "      <th>6</th>\n",
              "      <td>7</td>\n",
              "      <td>1</td>\n",
              "      <td>9906.12</td>\n",
              "      <td>298862.76</td>\n",
              "      <td>0</td>\n",
              "    </tr>\n",
              "    <tr>\n",
              "      <th>7</th>\n",
              "      <td>8</td>\n",
              "      <td>0</td>\n",
              "      <td>9704.04</td>\n",
              "      <td>211205.40</td>\n",
              "      <td>0</td>\n",
              "    </tr>\n",
              "    <tr>\n",
              "      <th>8</th>\n",
              "      <td>9</td>\n",
              "      <td>1</td>\n",
              "      <td>13932.72</td>\n",
              "      <td>449622.36</td>\n",
              "      <td>0</td>\n",
              "    </tr>\n",
              "    <tr>\n",
              "      <th>9</th>\n",
              "      <td>10</td>\n",
              "      <td>1</td>\n",
              "      <td>0.00</td>\n",
              "      <td>351303.24</td>\n",
              "      <td>0</td>\n",
              "    </tr>\n",
              "  </tbody>\n",
              "</table>\n",
              "</div>\n",
              "    <div class=\"colab-df-buttons\">\n",
              "\n",
              "  <div class=\"colab-df-container\">\n",
              "    <button class=\"colab-df-convert\" onclick=\"convertToInteractive('df-5aaee9c2-c359-410a-86aa-b5f3e9498e0e')\"\n",
              "            title=\"Convert this dataframe to an interactive table.\"\n",
              "            style=\"display:none;\">\n",
              "\n",
              "  <svg xmlns=\"http://www.w3.org/2000/svg\" height=\"24px\" viewBox=\"0 -960 960 960\">\n",
              "    <path d=\"M120-120v-720h720v720H120Zm60-500h600v-160H180v160Zm220 220h160v-160H400v160Zm0 220h160v-160H400v160ZM180-400h160v-160H180v160Zm440 0h160v-160H620v160ZM180-180h160v-160H180v160Zm440 0h160v-160H620v160Z\"/>\n",
              "  </svg>\n",
              "    </button>\n",
              "\n",
              "  <style>\n",
              "    .colab-df-container {\n",
              "      display:flex;\n",
              "      gap: 12px;\n",
              "    }\n",
              "\n",
              "    .colab-df-convert {\n",
              "      background-color: #E8F0FE;\n",
              "      border: none;\n",
              "      border-radius: 50%;\n",
              "      cursor: pointer;\n",
              "      display: none;\n",
              "      fill: #1967D2;\n",
              "      height: 32px;\n",
              "      padding: 0 0 0 0;\n",
              "      width: 32px;\n",
              "    }\n",
              "\n",
              "    .colab-df-convert:hover {\n",
              "      background-color: #E2EBFA;\n",
              "      box-shadow: 0px 1px 2px rgba(60, 64, 67, 0.3), 0px 1px 3px 1px rgba(60, 64, 67, 0.15);\n",
              "      fill: #174EA6;\n",
              "    }\n",
              "\n",
              "    .colab-df-buttons div {\n",
              "      margin-bottom: 4px;\n",
              "    }\n",
              "\n",
              "    [theme=dark] .colab-df-convert {\n",
              "      background-color: #3B4455;\n",
              "      fill: #D2E3FC;\n",
              "    }\n",
              "\n",
              "    [theme=dark] .colab-df-convert:hover {\n",
              "      background-color: #434B5C;\n",
              "      box-shadow: 0px 1px 3px 1px rgba(0, 0, 0, 0.15);\n",
              "      filter: drop-shadow(0px 1px 2px rgba(0, 0, 0, 0.3));\n",
              "      fill: #FFFFFF;\n",
              "    }\n",
              "  </style>\n",
              "\n",
              "    <script>\n",
              "      const buttonEl =\n",
              "        document.querySelector('#df-5aaee9c2-c359-410a-86aa-b5f3e9498e0e button.colab-df-convert');\n",
              "      buttonEl.style.display =\n",
              "        google.colab.kernel.accessAllowed ? 'block' : 'none';\n",
              "\n",
              "      async function convertToInteractive(key) {\n",
              "        const element = document.querySelector('#df-5aaee9c2-c359-410a-86aa-b5f3e9498e0e');\n",
              "        const dataTable =\n",
              "          await google.colab.kernel.invokeFunction('convertToInteractive',\n",
              "                                                    [key], {});\n",
              "        if (!dataTable) return;\n",
              "\n",
              "        const docLinkHtml = 'Like what you see? Visit the ' +\n",
              "          '<a target=\"_blank\" href=https://colab.research.google.com/notebooks/data_table.ipynb>data table notebook</a>'\n",
              "          + ' to learn more about interactive tables.';\n",
              "        element.innerHTML = '';\n",
              "        dataTable['output_type'] = 'display_data';\n",
              "        await google.colab.output.renderOutput(dataTable, element);\n",
              "        const docLink = document.createElement('div');\n",
              "        docLink.innerHTML = docLinkHtml;\n",
              "        element.appendChild(docLink);\n",
              "      }\n",
              "    </script>\n",
              "  </div>\n",
              "\n",
              "\n",
              "<div id=\"df-57bd36ed-450b-4a71-9b6a-b36359e09479\">\n",
              "  <button class=\"colab-df-quickchart\" onclick=\"quickchart('df-57bd36ed-450b-4a71-9b6a-b36359e09479')\"\n",
              "            title=\"Suggest charts\"\n",
              "            style=\"display:none;\">\n",
              "\n",
              "<svg xmlns=\"http://www.w3.org/2000/svg\" height=\"24px\"viewBox=\"0 0 24 24\"\n",
              "     width=\"24px\">\n",
              "    <g>\n",
              "        <path d=\"M19 3H5c-1.1 0-2 .9-2 2v14c0 1.1.9 2 2 2h14c1.1 0 2-.9 2-2V5c0-1.1-.9-2-2-2zM9 17H7v-7h2v7zm4 0h-2V7h2v10zm4 0h-2v-4h2v4z\"/>\n",
              "    </g>\n",
              "</svg>\n",
              "  </button>\n",
              "\n",
              "<style>\n",
              "  .colab-df-quickchart {\n",
              "      --bg-color: #E8F0FE;\n",
              "      --fill-color: #1967D2;\n",
              "      --hover-bg-color: #E2EBFA;\n",
              "      --hover-fill-color: #174EA6;\n",
              "      --disabled-fill-color: #AAA;\n",
              "      --disabled-bg-color: #DDD;\n",
              "  }\n",
              "\n",
              "  [theme=dark] .colab-df-quickchart {\n",
              "      --bg-color: #3B4455;\n",
              "      --fill-color: #D2E3FC;\n",
              "      --hover-bg-color: #434B5C;\n",
              "      --hover-fill-color: #FFFFFF;\n",
              "      --disabled-bg-color: #3B4455;\n",
              "      --disabled-fill-color: #666;\n",
              "  }\n",
              "\n",
              "  .colab-df-quickchart {\n",
              "    background-color: var(--bg-color);\n",
              "    border: none;\n",
              "    border-radius: 50%;\n",
              "    cursor: pointer;\n",
              "    display: none;\n",
              "    fill: var(--fill-color);\n",
              "    height: 32px;\n",
              "    padding: 0;\n",
              "    width: 32px;\n",
              "  }\n",
              "\n",
              "  .colab-df-quickchart:hover {\n",
              "    background-color: var(--hover-bg-color);\n",
              "    box-shadow: 0 1px 2px rgba(60, 64, 67, 0.3), 0 1px 3px 1px rgba(60, 64, 67, 0.15);\n",
              "    fill: var(--button-hover-fill-color);\n",
              "  }\n",
              "\n",
              "  .colab-df-quickchart-complete:disabled,\n",
              "  .colab-df-quickchart-complete:disabled:hover {\n",
              "    background-color: var(--disabled-bg-color);\n",
              "    fill: var(--disabled-fill-color);\n",
              "    box-shadow: none;\n",
              "  }\n",
              "\n",
              "  .colab-df-spinner {\n",
              "    border: 2px solid var(--fill-color);\n",
              "    border-color: transparent;\n",
              "    border-bottom-color: var(--fill-color);\n",
              "    animation:\n",
              "      spin 1s steps(1) infinite;\n",
              "  }\n",
              "\n",
              "  @keyframes spin {\n",
              "    0% {\n",
              "      border-color: transparent;\n",
              "      border-bottom-color: var(--fill-color);\n",
              "      border-left-color: var(--fill-color);\n",
              "    }\n",
              "    20% {\n",
              "      border-color: transparent;\n",
              "      border-left-color: var(--fill-color);\n",
              "      border-top-color: var(--fill-color);\n",
              "    }\n",
              "    30% {\n",
              "      border-color: transparent;\n",
              "      border-left-color: var(--fill-color);\n",
              "      border-top-color: var(--fill-color);\n",
              "      border-right-color: var(--fill-color);\n",
              "    }\n",
              "    40% {\n",
              "      border-color: transparent;\n",
              "      border-right-color: var(--fill-color);\n",
              "      border-top-color: var(--fill-color);\n",
              "    }\n",
              "    60% {\n",
              "      border-color: transparent;\n",
              "      border-right-color: var(--fill-color);\n",
              "    }\n",
              "    80% {\n",
              "      border-color: transparent;\n",
              "      border-right-color: var(--fill-color);\n",
              "      border-bottom-color: var(--fill-color);\n",
              "    }\n",
              "    90% {\n",
              "      border-color: transparent;\n",
              "      border-bottom-color: var(--fill-color);\n",
              "    }\n",
              "  }\n",
              "</style>\n",
              "\n",
              "  <script>\n",
              "    async function quickchart(key) {\n",
              "      const quickchartButtonEl =\n",
              "        document.querySelector('#' + key + ' button');\n",
              "      quickchartButtonEl.disabled = true;  // To prevent multiple clicks.\n",
              "      quickchartButtonEl.classList.add('colab-df-spinner');\n",
              "      try {\n",
              "        const charts = await google.colab.kernel.invokeFunction(\n",
              "            'suggestCharts', [key], {});\n",
              "      } catch (error) {\n",
              "        console.error('Error during call to suggestCharts:', error);\n",
              "      }\n",
              "      quickchartButtonEl.classList.remove('colab-df-spinner');\n",
              "      quickchartButtonEl.classList.add('colab-df-quickchart-complete');\n",
              "    }\n",
              "    (() => {\n",
              "      let quickchartButtonEl =\n",
              "        document.querySelector('#df-57bd36ed-450b-4a71-9b6a-b36359e09479 button');\n",
              "      quickchartButtonEl.style.display =\n",
              "        google.colab.kernel.accessAllowed ? 'block' : 'none';\n",
              "    })();\n",
              "  </script>\n",
              "</div>\n",
              "\n",
              "    </div>\n",
              "  </div>\n"
            ],
            "application/vnd.google.colaboratory.intrinsic+json": {
              "type": "dataframe",
              "variable_name": "data",
              "summary": "{\n  \"name\": \"data\",\n  \"rows\": 10000,\n  \"fields\": [\n    {\n      \"column\": \"Index\",\n      \"properties\": {\n        \"dtype\": \"number\",\n        \"std\": 2886,\n        \"min\": 1,\n        \"max\": 10000,\n        \"num_unique_values\": 10000,\n        \"samples\": [\n          6253,\n          4685,\n          1732\n        ],\n        \"semantic_type\": \"\",\n        \"description\": \"\"\n      }\n    },\n    {\n      \"column\": \"Employed\",\n      \"properties\": {\n        \"dtype\": \"number\",\n        \"std\": 0,\n        \"min\": 0,\n        \"max\": 1,\n        \"num_unique_values\": 2,\n        \"samples\": [\n          0,\n          1\n        ],\n        \"semantic_type\": \"\",\n        \"description\": \"\"\n      }\n    },\n    {\n      \"column\": \"Bank Balance\",\n      \"properties\": {\n        \"dtype\": \"number\",\n        \"std\": 5804.579485551096,\n        \"min\": 0.0,\n        \"max\": 31851.84,\n        \"num_unique_values\": 9227,\n        \"samples\": [\n          13885.68,\n          16187.52\n        ],\n        \"semantic_type\": \"\",\n        \"description\": \"\"\n      }\n    },\n    {\n      \"column\": \"Annual Salary\",\n      \"properties\": {\n        \"dtype\": \"number\",\n        \"std\": 160039.67498817277,\n        \"min\": 9263.64,\n        \"max\": 882650.76,\n        \"num_unique_values\": 9989,\n        \"samples\": [\n          289519.32,\n          169704.96\n        ],\n        \"semantic_type\": \"\",\n        \"description\": \"\"\n      }\n    },\n    {\n      \"column\": \"Defaulted?\",\n      \"properties\": {\n        \"dtype\": \"number\",\n        \"std\": 0,\n        \"min\": 0,\n        \"max\": 1,\n        \"num_unique_values\": 2,\n        \"samples\": [\n          1,\n          0\n        ],\n        \"semantic_type\": \"\",\n        \"description\": \"\"\n      }\n    }\n  ]\n}"
            }
          },
          "metadata": {},
          "execution_count": 12
        }
      ]
    },
    {
      "cell_type": "code",
      "source": [
        "#The column\n",
        "data.columns"
      ],
      "metadata": {
        "id": "lyucK9kDnx8x",
        "colab": {
          "base_uri": "https://localhost:8080/"
        },
        "outputId": "bb6745a4-4c98-4efa-f3c8-ec95c04f35a5"
      },
      "execution_count": null,
      "outputs": [
        {
          "output_type": "execute_result",
          "data": {
            "text/plain": [
              "Index(['Index', 'Employed', 'Bank Balance', 'Annual Salary', 'Defaulted?'], dtype='object')"
            ]
          },
          "metadata": {},
          "execution_count": 13
        }
      ]
    },
    {
      "cell_type": "code",
      "source": [
        "data.info()"
      ],
      "metadata": {
        "id": "53DBDRx8EGhj",
        "colab": {
          "base_uri": "https://localhost:8080/"
        },
        "outputId": "9135e13c-f365-4c48-c971-b0a9613096ec"
      },
      "execution_count": null,
      "outputs": [
        {
          "output_type": "stream",
          "name": "stdout",
          "text": [
            "<class 'pandas.core.frame.DataFrame'>\n",
            "RangeIndex: 10000 entries, 0 to 9999\n",
            "Data columns (total 5 columns):\n",
            " #   Column         Non-Null Count  Dtype  \n",
            "---  ------         --------------  -----  \n",
            " 0   Index          10000 non-null  int64  \n",
            " 1   Employed       10000 non-null  int64  \n",
            " 2   Bank Balance   10000 non-null  float64\n",
            " 3   Annual Salary  10000 non-null  float64\n",
            " 4   Defaulted?     10000 non-null  int64  \n",
            "dtypes: float64(2), int64(3)\n",
            "memory usage: 390.8 KB\n"
          ]
        }
      ]
    },
    {
      "cell_type": "code",
      "source": [
        "#Check the null (missing values)\n",
        "data.isnull().sum()"
      ],
      "metadata": {
        "id": "5S8idYKltxbd",
        "colab": {
          "base_uri": "https://localhost:8080/"
        },
        "outputId": "566337a8-ea5c-4e05-b990-f7d919c78b2f"
      },
      "execution_count": null,
      "outputs": [
        {
          "output_type": "execute_result",
          "data": {
            "text/plain": [
              "Index            0\n",
              "Employed         0\n",
              "Bank Balance     0\n",
              "Annual Salary    0\n",
              "Defaulted?       0\n",
              "dtype: int64"
            ]
          },
          "metadata": {},
          "execution_count": 15
        }
      ]
    },
    {
      "cell_type": "markdown",
      "source": [
        "```\n",
        "since the output is all zero, that means there are no missing values in this dataframe .\n",
        "```"
      ],
      "metadata": {
        "id": "ICTQKO30uSWi"
      }
    },
    {
      "cell_type": "code",
      "source": [
        "#Check for duplicate rows\n",
        "data.duplicated().sum()"
      ],
      "metadata": {
        "id": "fA-AjVimtxms",
        "colab": {
          "base_uri": "https://localhost:8080/"
        },
        "outputId": "fc10f67b-0ae5-43d6-f981-2a92e6f92c55"
      },
      "execution_count": null,
      "outputs": [
        {
          "output_type": "execute_result",
          "data": {
            "text/plain": [
              "0"
            ]
          },
          "metadata": {},
          "execution_count": 16
        }
      ]
    },
    {
      "cell_type": "markdown",
      "source": [
        "```\n",
        "since the output is zero, that means there are no duplicate rows in this dataframe .\n",
        "\n",
        "```"
      ],
      "metadata": {
        "id": "hfgVV-BvJQyB"
      }
    },
    {
      "cell_type": "code",
      "source": [
        "# Five-number summary for numerical columns\n",
        "five_num_summary = data.describe().transpose()\n",
        "print(five_num_summary)"
      ],
      "metadata": {
        "id": "cf_pxKZYvAHI",
        "colab": {
          "base_uri": "https://localhost:8080/"
        },
        "outputId": "679ebcec-9374-43ff-ad75-43cd6dc83f44"
      },
      "execution_count": null,
      "outputs": [
        {
          "output_type": "stream",
          "name": "stdout",
          "text": [
            "                 count           mean            std      min        25%  \\\n",
            "Index          10000.0    5000.500000    2886.895680     1.00    2500.75   \n",
            "Employed       10000.0       0.705600       0.455795     0.00       0.00   \n",
            "Bank Balance   10000.0   10024.498524    5804.579486     0.00    5780.79   \n",
            "Annual Salary  10000.0  402203.782224  160039.674988  9263.64  256085.52   \n",
            "Defaulted?     10000.0       0.033300       0.179428     0.00       0.00   \n",
            "\n",
            "                     50%        75%        max  \n",
            "Index            5000.50    7500.25   10000.00  \n",
            "Employed            1.00       1.00       1.00  \n",
            "Bank Balance     9883.62   13995.66   31851.84  \n",
            "Annual Salary  414631.74  525692.76  882650.76  \n",
            "Defaulted?          0.00       0.00       1.00  \n"
          ]
        }
      ]
    },
    {
      "cell_type": "markdown",
      "source": [
        "```\n",
        "There is no outliers .\n",
        "\n",
        "```"
      ],
      "metadata": {
        "id": "2KUvTU-R1RG0"
      }
    },
    {
      "cell_type": "code",
      "source": [
        "# Check for inconsistencies\n",
        "print(data.value_counts())"
      ],
      "metadata": {
        "id": "UOIe58vlrkgD",
        "colab": {
          "base_uri": "https://localhost:8080/"
        },
        "outputId": "b9126985-0d7a-4449-ef93-5d02bd87c91b"
      },
      "execution_count": null,
      "outputs": [
        {
          "output_type": "stream",
          "name": "stdout",
          "text": [
            "Index  Employed  Bank Balance  Annual Salary  Defaulted?\n",
            "1      1         8754.36       532339.56      0             1\n",
            "6671   1         2100.60       271740.00      0             1\n",
            "6664   0         5174.40       243617.88      0             1\n",
            "6665   1         16938.60      515479.56      0             1\n",
            "6666   0         14201.40      194271.48      0             1\n",
            "                                                           ..\n",
            "3334   1         13891.80      468963.12      0             1\n",
            "3335   1         10793.52      436022.64      0             1\n",
            "3336   1         3974.04       537026.76      0             1\n",
            "3337   1         5270.40       505584.12      0             1\n",
            "10000  0         2411.04       202355.40      0             1\n",
            "Length: 10000, dtype: int64\n"
          ]
        }
      ]
    },
    {
      "cell_type": "markdown",
      "source": [
        "```\n",
        "There is no inconsistencies\n",
        "\n",
        "```"
      ],
      "metadata": {
        "id": "O9eT825S1m5g"
      }
    },
    {
      "cell_type": "markdown",
      "source": [
        "## 2- Data Visualization"
      ],
      "metadata": {
        "id": "ZlkhQza8kbyV"
      }
    },
    {
      "cell_type": "markdown",
      "source": [
        "### Correlation Matrix"
      ],
      "metadata": {
        "id": "B_QGuLLrJyaG"
      }
    },
    {
      "cell_type": "code",
      "source": [
        "# -1 to +1\n",
        "# Heatmap using Seaborn\n",
        "\n",
        "corr=data.corr().abs()\n",
        "plt.figure(figsize = (25,15))\n",
        "\n",
        "ax = sns.heatmap(corr, annot=True, linewidths=1,cmap='mako_r')"
      ],
      "metadata": {
        "id": "B4tHcph4uLv4",
        "colab": {
          "base_uri": "https://localhost:8080/",
          "height": 704
        },
        "outputId": "fb169224-bc59-4eea-bf87-d1629d352504"
      },
      "execution_count": null,
      "outputs": [
        {
          "output_type": "display_data",
          "data": {
            "text/plain": [
              "<Figure size 2500x1500 with 2 Axes>"
            ],
            "image/png": "[encoded data removed]"
          },
          "metadata": {}
        }
      ]
    },
    {
      "cell_type": "markdown",
      "source": [
        "### Pie chart"
      ],
      "metadata": {
        "id": "DlvwIxnmBD4O"
      }
    },
    {
      "cell_type": "code",
      "source": [
        "# Createing a Pie chart to compare between defualte and non-defualte\n",
        "df= data['Defaulted?'].value_counts()\n",
        "wp = {'linewidth':1, 'edgecolor':\"black\"}\n",
        "explode = (0.2,0.2)\n",
        "colors = [\"#73A4CA\", \"#B9DDF1\"]\n",
        "plt.pie(df, labels=['Non-Default', 'Default'], autopct='%1.1f%%',wedgeprops = wp, explode = explode, shadow=True ,colors=colors)\n",
        "plt.title('Default vs Non-Default Clients')\n",
        "plt.show()"
      ],
      "metadata": {
        "id": "h5RzLuzn-5ym",
        "colab": {
          "base_uri": "https://localhost:8080/",
          "height": 428
        },
        "outputId": "121a47f6-0a25-4ecc-be39-21eb90ab0ed7"
      },
      "execution_count": null,
      "outputs": [
        {
          "output_type": "display_data",
          "data": {
            "text/plain": [
              "<Figure size 640x480 with 1 Axes>"
            ],
            "image/png": "[encoded data removed]"
          },
          "metadata": {}
        }
      ]
    },
    {
      "cell_type": "code",
      "source": [
        "employed = data.query(\"Employed == 1\")\n",
        "unemployed = data.query(\"Employed == 0\")"
      ],
      "metadata": {
        "id": "7fpcmEPKYsHU"
      },
      "execution_count": null,
      "outputs": []
    },
    {
      "cell_type": "code",
      "source": [
        "#Distribution Clients Who Are Unemployed and Defaulted\n",
        "df = unemployed['Defaulted?'].value_counts()\n",
        "wp = {'linewidth':1, 'edgecolor':\"black\"}\n",
        "explode = (0,0.2)\n",
        "colors = [\"#feeaf8\", \"#b2b6fb\"]\n",
        "plt.pie(df, labels=['unemployed', 'Default'], autopct='%1.1f%%',wedgeprops = wp, explode = explode, shadow=True ,colors=colors)\n",
        "plt.title('unemployed vs Default Clients')\n",
        "plt.show()"
      ],
      "metadata": {
        "id": "jD-UQuz70_Fs",
        "colab": {
          "base_uri": "https://localhost:8080/",
          "height": 428
        },
        "outputId": "704979bc-adf1-4421-e65f-ebe9abbbb60b"
      },
      "execution_count": null,
      "outputs": [
        {
          "output_type": "display_data",
          "data": {
            "text/plain": [
              "<Figure size 640x480 with 1 Axes>"
            ],
            "image/png": "[encoded data removed]"
          },
          "metadata": {}
        }
      ]
    },
    {
      "cell_type": "code",
      "source": [
        "#Distribution of Clients Who Are Employed and Defaulted\n",
        "df = data['Employed'].value_counts()\n",
        "wp = {'linewidth':1, 'edgecolor':\"black\"}\n",
        "explode = (0,0.2)\n",
        "colors = [\"#f5c777\", \"#ecf7fc\"]\n",
        "plt.pie(df, labels= ['Employed', 'Default'], autopct='%1.1f%%',wedgeprops = wp, explode = explode, shadow=True ,colors=colors)\n",
        "plt.title('Employed vs Default Clients')\n",
        "plt.show()"
      ],
      "metadata": {
        "id": "-mSeZzn_0-02",
        "colab": {
          "base_uri": "https://localhost:8080/",
          "height": 428
        },
        "outputId": "c8b7eca2-954d-4aed-97c1-efa403641c3a"
      },
      "execution_count": null,
      "outputs": [
        {
          "output_type": "display_data",
          "data": {
            "text/plain": [
              "<Figure size 640x480 with 1 Axes>"
            ],
            "image/png": "[encoded data removed]"
          },
          "metadata": {}
        }
      ]
    },
    {
      "cell_type": "markdown",
      "source": [
        "### Bar chart"
      ],
      "metadata": {
        "id": "lfDI-sclBGtQ"
      }
    },
    {
      "cell_type": "code",
      "source": [
        "df= data.copy()\n",
        "Default_plt=df[data['Defaulted?']==1]['Bank Balance']\n",
        "plt.hist(Default_plt, color='lightgreen', ec='black', bins=15)"
      ],
      "metadata": {
        "id": "4GVFTNj6nF-_",
        "colab": {
          "base_uri": "https://localhost:8080/",
          "height": 534
        },
        "outputId": "d0564fa4-cd3d-47ca-d516-c062a53c8641"
      },
      "execution_count": null,
      "outputs": [
        {
          "output_type": "execute_result",
          "data": {
            "text/plain": [
              "(array([ 3.,  0.,  6., 13., 12., 27., 49., 33., 55., 51., 40., 26., 11.,\n",
              "         5.,  2.]),\n",
              " array([ 7828.8  ,  9430.336, 11031.872, 12633.408, 14234.944, 15836.48 ,\n",
              "        17438.016, 19039.552, 20641.088, 22242.624, 23844.16 , 25445.696,\n",
              "        27047.232, 28648.768, 30250.304, 31851.84 ]),\n",
              " <BarContainer object of 15 artists>)"
            ]
          },
          "metadata": {},
          "execution_count": 24
        },
        {
          "output_type": "display_data",
          "data": {
            "text/plain": [
              "<Figure size 640x480 with 1 Axes>"
            ],
            "image/png": "[encoded data removed]"
          },
          "metadata": {}
        }
      ]
    },
    {
      "cell_type": "markdown",
      "source": [
        "### Line chart"
      ],
      "metadata": {
        "id": "MKRu_83ootTS"
      }
    },
    {
      "cell_type": "code",
      "source": [
        "bankbalnce=df[data['Defaulted?']==1]['Annual Salary']\n",
        "sns.distplot(bankbalnce, bins=10, hist_kws=dict(color='g'))\n",
        "plt.show()"
      ],
      "metadata": {
        "id": "t66ibaieoXt6",
        "colab": {
          "base_uri": "https://localhost:8080/",
          "height": 656
        },
        "outputId": "50feb796-0afc-4fb0-9622-9b7947c90159"
      },
      "execution_count": null,
      "outputs": [
        {
          "output_type": "stream",
          "name": "stderr",
          "text": [
            "<ipython-input-25-c8c3df1ef3f5>:2: UserWarning: \n",
            "\n",
            "`distplot` is a deprecated function and will be removed in seaborn v0.14.0.\n",
            "\n",
            "Please adapt your code to use either `displot` (a figure-level function with\n",
            "similar flexibility) or `histplot` (an axes-level function for histograms).\n",
            "\n",
            "For a guide to updating your code to use the new functions, please see\n",
            "https://gist.github.com/mwaskom/de44147ed2974457ad6372750bbe5751\n",
            "\n",
            "  sns.distplot(bankbalnce, bins=10, hist_kws=dict(color='g'))\n"
          ]
        },
        {
          "output_type": "display_data",
          "data": {
            "text/plain": [
              "<Figure size 640x480 with 1 Axes>"
            ],
            "image/png": "[encoded data removed]"
          },
          "metadata": {}
        }
      ]
    },
    {
      "cell_type": "markdown",
      "source": [
        "## 3- ML Model"
      ],
      "metadata": {
        "id": "Q07Cx4INLui6"
      }
    },
    {
      "cell_type": "markdown",
      "source": [
        "### **Problem Statement:** Given above data build a machine learning model that can predict if a person will be defualted in a loan\n",
        ">\n",
        "\n"
      ],
      "metadata": {
        "id": "1vOL8kTlvHnK"
      }
    },
    {
      "cell_type": "code",
      "source": [
        "df=data.copy()"
      ],
      "metadata": {
        "id": "qYxyzu64amJi"
      },
      "execution_count": null,
      "outputs": []
    },
    {
      "cell_type": "code",
      "source": [
        "result={}"
      ],
      "metadata": {
        "id": "zf9qUL_Jal5S"
      },
      "execution_count": null,
      "outputs": []
    },
    {
      "cell_type": "code",
      "source": [
        "\n",
        "X = df.drop('Defaulted?', axis=1)\n",
        "y = df['Defaulted?'] #target variable\n",
        "\n",
        "X_train, X_test, y_train, y_test = train_test_split(X, y, test_size=0.3, random_state=42)"
      ],
      "metadata": {
        "id": "MNdkLgBGaiwx"
      },
      "execution_count": null,
      "outputs": []
    },
    {
      "cell_type": "markdown",
      "source": [
        "#### Decision Tree Classifier"
      ],
      "metadata": {
        "id": "24qWwtiCpFFY"
      }
    },
    {
      "cell_type": "code",
      "source": [
        "tree_clf = DecisionTreeClassifier(random_state=42)\n",
        "tree_clf.fit(X_train, y_train) #training\n",
        "tree_clf_pred = tree_clf.predict(X_test) #test"
      ],
      "metadata": {
        "id": "iz1poUJVj0A3"
      },
      "execution_count": null,
      "outputs": []
    },
    {
      "cell_type": "code",
      "source": [
        "# Evaluate the DT\n",
        "tree_clf_accuracy = metrics.accuracy_score(y_test, tree_clf_pred)\n",
        "\n",
        "# Store the results of Decision Tree Classifier model in the dictionary\n",
        "result[\"DT\"] = {\"accuracy\": tree_clf_accuracy}"
      ],
      "metadata": {
        "id": "M91_J8XVa3Aa"
      },
      "execution_count": null,
      "outputs": []
    },
    {
      "cell_type": "code",
      "source": [
        "result"
      ],
      "metadata": {
        "id": "VSujfvcQj0Fl",
        "colab": {
          "base_uri": "https://localhost:8080/"
        },
        "outputId": "7bd4b6f1-0721-40c9-b4ac-f40462b5be69"
      },
      "execution_count": null,
      "outputs": [
        {
          "output_type": "execute_result",
          "data": {
            "text/plain": [
              "{'DT': {'accuracy': 0.953}}"
            ]
          },
          "metadata": {},
          "execution_count": 31
        }
      ]
    },
    {
      "cell_type": "markdown",
      "source": [
        "#### Random Forest classifar"
      ],
      "metadata": {
        "id": "zWgK3A6xovwS"
      }
    },
    {
      "cell_type": "code",
      "source": [
        "RT=RandomForestClassifier()"
      ],
      "metadata": {
        "id": "vLsl7f88j0H5"
      },
      "execution_count": null,
      "outputs": []
    },
    {
      "cell_type": "code",
      "source": [
        "#Prediction model\n",
        "RT.fit(X_train, y_train)\n",
        "RT_prediction=RT.predict(X_test)"
      ],
      "metadata": {
        "id": "hkC3uISXovBG"
      },
      "execution_count": null,
      "outputs": []
    },
    {
      "cell_type": "code",
      "source": [
        "# accuracy\n",
        "RT_accuracy= metrics.accuracy_score(y_test,RT_prediction)\n",
        "#to store the results from this classifier also\n",
        "result[\"RT\"]={\"accuracy\": RT_accuracy}\n",
        "result"
      ],
      "metadata": {
        "id": "oJg_PoAPruMz",
        "colab": {
          "base_uri": "https://localhost:8080/"
        },
        "outputId": "4ba5bf4b-d45b-477e-82f8-dfa1ac73c889"
      },
      "execution_count": null,
      "outputs": [
        {
          "output_type": "execute_result",
          "data": {
            "text/plain": [
              "{'DT': {'accuracy': 0.953}, 'RT': {'accuracy': 0.972}}"
            ]
          },
          "metadata": {},
          "execution_count": 34
        }
      ]
    },
    {
      "cell_type": "markdown",
      "source": [
        "#### Logstic Regression"
      ],
      "metadata": {
        "id": "NyRNQ8fhjYct"
      }
    },
    {
      "cell_type": "code",
      "source": [
        "LR=LogisticRegression()"
      ],
      "metadata": {
        "id": "D83ZX5fdst_V"
      },
      "execution_count": null,
      "outputs": []
    },
    {
      "cell_type": "code",
      "source": [
        "#Prediction model\n",
        "LR.fit(X_train,y_train)\n",
        "y_pred = LR.predict(X_test)"
      ],
      "metadata": {
        "id": "Mq2C9PCt7AF9"
      },
      "execution_count": null,
      "outputs": []
    },
    {
      "cell_type": "code",
      "source": [
        "# accuracy\n",
        "acc = metrics.accuracy_score(y_test, y_pred)\n",
        "result[\"LR\"] = {\"accuracy\": acc}\n"
      ],
      "metadata": {
        "id": "-oyGkjpA6_eW"
      },
      "execution_count": null,
      "outputs": []
    },
    {
      "cell_type": "code",
      "source": [
        "result"
      ],
      "metadata": {
        "id": "UrN1ARdfCfyZ",
        "colab": {
          "base_uri": "https://localhost:8080/"
        },
        "outputId": "c165c87a-a9ed-4359-faa9-3f617057735d"
      },
      "execution_count": null,
      "outputs": [
        {
          "output_type": "execute_result",
          "data": {
            "text/plain": [
              "{'DT': {'accuracy': 0.953},\n",
              " 'RT': {'accuracy': 0.972},\n",
              " 'LR': {'accuracy': 0.965}}"
            ]
          },
          "metadata": {},
          "execution_count": 38
        }
      ]
    },
    {
      "cell_type": "markdown",
      "source": [
        "#### SVM"
      ],
      "metadata": {
        "id": "atvDhnFij96q"
      }
    },
    {
      "cell_type": "code",
      "source": [
        "\n",
        "# Create SVM model\n",
        "svm_model = SVC(kernel='linear',random_state=42)  # Linear kernel\n",
        "\n",
        "# Train the model\n",
        "svm_model.fit(X_train, y_train)\n",
        "\n",
        "# Predict the labels of the test set\n",
        "y_pred = svm_model.predict(X_test)\n",
        "\n"
      ],
      "metadata": {
        "id": "XNqh_SpgkDRq"
      },
      "execution_count": null,
      "outputs": []
    },
    {
      "cell_type": "code",
      "source": [
        "# accuracy\n",
        "# Calculate  accuracy\n",
        "accuracySVM = accuracy_score(y_test, y_pred)\n",
        "print(\"Accuracy:\", accuracySVM)\n"
      ],
      "metadata": {
        "id": "5yc2qkjqkB88",
        "colab": {
          "base_uri": "https://localhost:8080/"
        },
        "outputId": "3eb42d81-fd4d-4dd4-b7e8-3fba59225220"
      },
      "execution_count": null,
      "outputs": [
        {
          "output_type": "stream",
          "name": "stdout",
          "text": [
            "Accuracy: 0.9706666666666667\n"
          ]
        }
      ]
    },
    {
      "cell_type": "code",
      "source": [
        "result[\"SVM\"] = {\"accuracy\": accuracySVM}\n",
        "result"
      ],
      "metadata": {
        "id": "e03G5TQW0sve",
        "colab": {
          "base_uri": "https://localhost:8080/"
        },
        "outputId": "782451ab-20a2-4441-8e16-9152cfada7bf"
      },
      "execution_count": null,
      "outputs": [
        {
          "output_type": "execute_result",
          "data": {
            "text/plain": [
              "{'DT': {'accuracy': 0.953},\n",
              " 'RT': {'accuracy': 0.972},\n",
              " 'LR': {'accuracy': 0.965},\n",
              " 'SVM': {'accuracy': 0.9706666666666667}}"
            ]
          },
          "metadata": {},
          "execution_count": 41
        }
      ]
    },
    {
      "cell_type": "markdown",
      "source": [
        "#### KNeighborsClassifier"
      ],
      "metadata": {
        "id": "9vOtERLhjntK"
      }
    },
    {
      "cell_type": "code",
      "source": [
        "# Training the model\n",
        "knn = KNeighborsClassifier(n_neighbors=4)  # You can adjust the number of neighbors as needed\n",
        "\n",
        "knn.fit(X_train, y_train)\n",
        "\n",
        "# Making predictions\n",
        "y_pred = knn.predict(X_test)\n",
        "\n",
        "# Evaluating the model\n",
        "accuracy =metrics. accuracy_score(y_test, y_pred)\n",
        "print(\"Accuracy:\", accuracy)\n"
      ],
      "metadata": {
        "id": "oouDzosIjtcw",
        "colab": {
          "base_uri": "https://localhost:8080/"
        },
        "outputId": "161192fd-dcbe-44d2-dac7-d3468c9a5789"
      },
      "execution_count": null,
      "outputs": [
        {
          "output_type": "stream",
          "name": "stdout",
          "text": [
            "Accuracy: 0.9683333333333334\n"
          ]
        }
      ]
    },
    {
      "cell_type": "code",
      "source": [
        "result[\"KNeigbhors\"] = {\"accuracy\": accuracy}\n",
        "result"
      ],
      "metadata": {
        "id": "ALiUKGEw01x9",
        "colab": {
          "base_uri": "https://localhost:8080/"
        },
        "outputId": "21f02fa7-05b5-49ff-b7ad-402d37f8a5cf"
      },
      "execution_count": null,
      "outputs": [
        {
          "output_type": "execute_result",
          "data": {
            "text/plain": [
              "{'DT': {'accuracy': 0.953},\n",
              " 'RT': {'accuracy': 0.972},\n",
              " 'LR': {'accuracy': 0.965},\n",
              " 'SVM': {'accuracy': 0.9706666666666667},\n",
              " 'KNeigbhors': {'accuracy': 0.9683333333333334}}"
            ]
          },
          "metadata": {},
          "execution_count": 43
        }
      ]
    },
    {
      "cell_type": "markdown",
      "source": [
        "## Final Result"
      ],
      "metadata": {
        "id": "nE3Xf2MSqehe"
      }
    },
    {
      "cell_type": "code",
      "source": [
        "\n",
        "# Create a dictionary of results\n",
        "Finalresult = {\n",
        "    \"Model\": [\"Decision Tree\", \"Random Forest\", \"Logistic Regression\", \"SVM\", \"KNeighborsClassifier\"],\n",
        "    \"Accuracy\": [tree_clf_accuracy, RT_accuracy, acc, accuracySVM, accuracy]\n",
        "}\n",
        "\n",
        "# Convert the dictionary to a DataFrame\n",
        "df = pd.DataFrame(Finalresult)\n",
        "\n",
        "# Print the DataFrame\n",
        "print(df)\n"
      ],
      "metadata": {
        "id": "bgVH0qqYprcP",
        "colab": {
          "base_uri": "https://localhost:8080/"
        },
        "outputId": "952fc44a-a27c-452a-bc32-65d42b8c5833"
      },
      "execution_count": null,
      "outputs": [
        {
          "output_type": "stream",
          "name": "stdout",
          "text": [
            "                  Model  Accuracy\n",
            "0         Decision Tree  0.953000\n",
            "1         Random Forest  0.972000\n",
            "2   Logistic Regression  0.965000\n",
            "3                   SVM  0.970667\n",
            "4  KNeighborsClassifier  0.968333\n"
          ]
        }
      ]
    },
    {
      "cell_type": "markdown",
      "source": [
        "**The best model was Random Forest with accuracy of 0.971**\n",
        "\n",
        "\n",
        "\n"
      ],
      "metadata": {
        "id": "xLjIHN87p8h5"
      }
    },
    {
      "cell_type": "markdown",
      "source": [
        "# Part II"
      ],
      "metadata": {
        "id": "LNE0I9r99Hku"
      }
    },
    {
      "cell_type": "markdown",
      "source": [
        "## solve Q1"
      ],
      "metadata": {
        "id": "RAkkGP239wDB"
      }
    },
    {
      "cell_type": "markdown",
      "source": [
        "1. Loop:\n",
        "Question:\n",
        "Write a Python program that uses a 'for' loop to print all even numbers from 1 to 10. Then, use 'while' loop."
      ],
      "metadata": {
        "id": "mPftnkgK906w"
      }
    },
    {
      "cell_type": "code",
      "execution_count": null,
      "metadata": {
        "id": "Zox_Orcl3Eug",
        "colab": {
          "base_uri": "https://localhost:8080/"
        },
        "outputId": "fd9fd283-9e07-4504-a5a3-1a633dcae73f"
      },
      "outputs": [
        {
          "output_type": "stream",
          "name": "stdout",
          "text": [
            "Please enter your first number:(start in range)2\n",
            "Please enter your last number:(last in range)10\n",
            "Using 'for' loop:\n",
            "The even numbers are:  2\n",
            "The even numbers are:  4\n",
            "The even numbers are:  6\n",
            "The even numbers are:  8\n",
            "The even numbers are:  10\n",
            "\n",
            "Using 'while' loop:\n",
            "The even numbers are:  2\n",
            "The even numbers are:  4\n",
            "The even numbers are:  6\n",
            "The even numbers are:  8\n",
            "The even numbers are:  10\n"
          ]
        }
      ],
      "source": [
        "# create function even_num that take 2 parameter from user\n",
        "# parameter#1 => first number parameter#2 => last number (Range of number)\n",
        "\n",
        "def even_num(f_num,l_num):\n",
        "\n",
        "  # Using for loop\n",
        "  print(\"Using 'for' loop:\")\n",
        "  for i in range(f_num, l_num + 1):\n",
        "    if i % 2 == 0 :\n",
        "      print(\"The even numbers are: \", i)\n",
        "\n",
        "  # Using while loop\n",
        "  num = f_num\n",
        "  print(\"\\nUsing 'while' loop:\")\n",
        "  while num <= l_num:\n",
        "      if num % 2 == 0:\n",
        "          print(\"The even numbers are: \",num)\n",
        "      num += 1\n",
        "\n",
        "f_n = int(input(\"Please enter your first number:(start in range)\"))\n",
        "l_n = int(input(\"Please enter your last number:(last in range)\"))\n",
        "\n",
        "even_num(f_n, l_n)"
      ]
    },
    {
      "cell_type": "markdown",
      "source": [
        "\n",
        "\n",
        "```\n",
        "\n",
        "```\n",
        "\n",
        "## solve Q2"
      ],
      "metadata": {
        "id": "Vcm1RE0P_MNB"
      }
    },
    {
      "cell_type": "markdown",
      "source": [
        "2. Control Flows:\n",
        "Question:\n",
        "Create a Python function named grade_classifier that takes a student's score as an argument and returns a string indicating their grade. Use the following criteria:\n",
        "\n",
        "Score >= 90: \"A\"\n",
        "80 <= Score < 90: \"B\"\n",
        "70 <= Score < 80: \"C\"\n",
        "60 <= Score < 70: \"D\"\n",
        "Score < 60: \"F\""
      ],
      "metadata": {
        "id": "d8-s_lPm_TFV"
      }
    },
    {
      "cell_type": "code",
      "source": [
        "# Create function grade_classifier\n",
        "def grade_classifier(score):\n",
        "    if score >= 90:\n",
        "        return \"A\"\n",
        "    elif score >= 80:\n",
        "        return \"B\"\n",
        "    elif score >= 70:\n",
        "        return \"C\"\n",
        "    elif score >= 60:\n",
        "        return \"D\"\n",
        "    else:\n",
        "        return \"F\"\n",
        "\n",
        "# Test the function\n",
        "score = 85\n",
        "print(f\"A student with a score of {score} gets a grade of {grade_classifier(score)}\")\n",
        "\n",
        "\n",
        "\n",
        "\n"
      ],
      "metadata": {
        "id": "tqWpm32E97_S",
        "colab": {
          "base_uri": "https://localhost:8080/"
        },
        "outputId": "bffb24c0-2da8-434f-9d13-69a0f968dbab"
      },
      "execution_count": null,
      "outputs": [
        {
          "output_type": "stream",
          "name": "stdout",
          "text": [
            "A student with a score of 85 gets a grade of B\n"
          ]
        }
      ]
    },
    {
      "cell_type": "markdown",
      "source": [
        "## solve Q3"
      ],
      "metadata": {
        "id": "9hKlSKtt_YWx"
      }
    },
    {
      "cell_type": "markdown",
      "source": [
        "3. If Conditions:\n",
        "Question:\n",
        "Write a Python program that prompts the user to enter their age. Use if-elif-else statements to categorize and print the user's age group as follows:\n",
        "\n",
        "If the age is less than 13, print \"Child.\"\n",
        "If the age is between 13 and 19 (inclusive), print \"Teenager.\"\n",
        "If the age is between 20 and 59 (inclusive), print \"Adult.\"\n",
        "If the age is 60 or older, print \"Senior Citizen.\""
      ],
      "metadata": {
        "id": "ynHGIfUg_fFJ"
      }
    },
    {
      "cell_type": "code",
      "source": [
        "# Create function\n",
        "def categorize_age(age):\n",
        "    if age < 0:\n",
        "        print(\"Age can not be negative.\")\n",
        "    else:\n",
        "        if age < 13:\n",
        "            print(f\"Based on your age ({age} years), you fall into the age group of Child\")\n",
        "        elif age >= 13 and age <= 19:\n",
        "            print(f\"Based on your age ({age} years), you fall into the age group of Teenager\")\n",
        "        elif age >= 20 and age <= 59:\n",
        "            print(f\"Based on your age ({age} years), you fall into the age group of Adult\")\n",
        "        else:\n",
        "            print(f\"Based on your age ({age} years), you fall into the age group of Senior Citizen\")\n",
        "# using f-string in the print statements because it provides a concise and readable way to interpolate variables and expressions directly into string literals.\n",
        "# Prompt the user to enter their age\n",
        "age = int(input(\"Enter your age: \"))\n",
        "categorize_age(age)\n"
      ],
      "metadata": {
        "id": "OJ-fSklt_ea9",
        "colab": {
          "base_uri": "https://localhost:8080/"
        },
        "outputId": "31851f46-7449-40f7-8f67-a150e4300d6c"
      },
      "execution_count": null,
      "outputs": [
        {
          "output_type": "stream",
          "name": "stdout",
          "text": [
            "Enter your age: 22\n",
            "Based on your age (22 years), you fall into the age group of Adult\n"
          ]
        }
      ]
    },
    {
      "cell_type": "markdown",
      "source": [
        "## solve Q4  "
      ],
      "metadata": {
        "id": "xHXEG8Qh_nQu"
      }
    },
    {
      "cell_type": "markdown",
      "source": [
        "4. Functions:\n",
        "Question:\n",
        "Define a Python function named multiply_numbers that takes two parameters (num1 and num2) and returns their product. Test the function with values 5 and 7.\n",
        "5 * 7 = 35"
      ],
      "metadata": {
        "id": "gA5_yYyX_zL2"
      }
    },
    {
      "cell_type": "code",
      "source": [
        "# Create function multiply_numbers\n",
        "\n",
        "def multiply_numbers(num1, num2):\n",
        "    return num1 * num2\n",
        "\n",
        "result = multiply_numbers(5, 7)\n",
        "\n",
        "print(\"5 * 7 =\", result)\n",
        "# Test the function with values 5 and 7\n"
      ],
      "metadata": {
        "id": "JL2I0xZz_9G6",
        "colab": {
          "base_uri": "https://localhost:8080/"
        },
        "outputId": "a67b1feb-14d1-4224-b7ff-746f3c42df53"
      },
      "execution_count": null,
      "outputs": [
        {
          "output_type": "stream",
          "name": "stdout",
          "text": [
            "5 * 7 = 35\n"
          ]
        }
      ]
    },
    {
      "cell_type": "markdown",
      "source": [
        "## solve Q5"
      ],
      "metadata": {
        "id": "1IqJbIzw_-lo"
      }
    },
    {
      "cell_type": "markdown",
      "source": [
        "5. Combine All the Above:\n",
        "Question:\n",
        "Write a Python program that does the following:\n",
        "\n",
        "Prompts the user to enter a number (user_num).\n",
        "Uses a loop to print all numbers from 1 to user_num (inclusive) that are divisible by 3.\n",
        "Calls the grade_classifier function to classify a user's score (you can use a predefined score for testing).\n",
        "Prints a message indicating whether the classified grade is satisfactory or not."
      ],
      "metadata": {
        "id": "Xu1H4pXkAHjk"
      }
    },
    {
      "cell_type": "code",
      "source": [
        "# Prompt the user to enter their number\n",
        "user_num = int(input(\"Enter a number: \"))\n",
        "\n",
        "# Use a loop to print numbers divisible by 3 from 1 to user_num\n",
        "print(f\"Numbers divisible by 3 from 1 to {user_num}:\")\n",
        "for num in range(1, user_num + 1):\n",
        "    if num % 3 == 0:\n",
        "        print(num)\n",
        "\n",
        "# Call the grade_classifier function in Q2\n",
        "test_score = int(input(\"Enter student score: \"))\n",
        "classified_grade = grade_classifier(test_score)\n",
        "\n",
        "# Print a message indicating whether the classified grade is satisfactory or not\n",
        "if classified_grade in ['A', 'B', 'C']:\n",
        "    print(f\"The classified grade ({classified_grade}) is satisfactory.\")\n",
        "else:\n",
        "    print(f\"The classified grade ({classified_grade}) is not satisfactory.\")\n"
      ],
      "metadata": {
        "id": "AEF63u0IADua",
        "colab": {
          "base_uri": "https://localhost:8080/"
        },
        "outputId": "5aa78a6d-7bcf-454d-808b-cee1499a9255"
      },
      "execution_count": null,
      "outputs": [
        {
          "output_type": "stream",
          "name": "stdout",
          "text": [
            "Enter a number: 30\n",
            "Numbers divisible by 3 from 1 to 30:\n",
            "3\n",
            "6\n",
            "9\n",
            "12\n",
            "15\n",
            "18\n",
            "21\n",
            "24\n",
            "27\n",
            "30\n",
            "Enter student score: 97\n",
            "The classified grade (A) is satisfactory.\n"
          ]
        }
      ]
    }
  ]
}